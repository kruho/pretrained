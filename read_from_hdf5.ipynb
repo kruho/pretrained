{
 "cells": [
  {
   "cell_type": "code",
   "execution_count": 1,
   "metadata": {},
   "outputs": [],
   "source": [
    "# check architecture\n",
    "\n",
    "if False:\n",
    "    from keras.applications.vgg16 import VGG16\n",
    "\n",
    "    vgg16 = VGG16(include_top=True, weights='imagenet', input_tensor=None, input_shape=None)\n",
    "    vgg16.summary()"
   ]
  },
  {
   "cell_type": "code",
   "execution_count": 12,
   "metadata": {},
   "outputs": [
    {
     "data": {
      "text/plain": [
       "['block1_conv1',\n",
       " 'block1_conv2',\n",
       " 'block1_pool',\n",
       " 'block2_conv1',\n",
       " 'block2_conv2',\n",
       " 'block2_pool',\n",
       " 'block3_conv1',\n",
       " 'block3_conv2',\n",
       " 'block3_conv3',\n",
       " 'block3_pool',\n",
       " 'block4_conv1',\n",
       " 'block4_conv2',\n",
       " 'block4_conv3',\n",
       " 'block4_pool',\n",
       " 'block5_conv1',\n",
       " 'block5_conv2',\n",
       " 'block5_conv3',\n",
       " 'block5_pool',\n",
       " 'fc1',\n",
       " 'fc2',\n",
       " 'flatten',\n",
       " 'predictions']"
      ]
     },
     "execution_count": 12,
     "metadata": {},
     "output_type": "execute_result"
    }
   ],
   "source": [
    "import h5py\n",
    "\n",
    "path = '../../.keras/models/vgg16_weights_tf_dim_ordering_tf_kernels.h5'\n",
    "\n",
    "f = h5py.File(path, 'r')\n",
    "layer_names = list(f.keys())\n",
    "corr_layers = dict.fromkeys(layer_names)\n",
    "layer_names"
   ]
  },
  {
   "cell_type": "code",
   "execution_count": 7,
   "metadata": {},
   "outputs": [],
   "source": [
    "from keras.layers import Input, Conv2D, MaxPooling2D, Flatten, Dense, GlobalAveragePooling2D\n",
    "from keras.models import Model\n",
    "\n",
    "x = h = Input((224,224,3))\n",
    "h = Conv2D(64,(3,3),activation='relu',padding='same', name='c1_1')(h)\n",
    "h = Conv2D(64,(3,3),activation='relu',padding='same', name='c1_2')(h)\n",
    "#h = MaxPooling2D()(h)\n",
    "#h = Conv2D(128,(3,3),activation='relu',padding='same', name='c2_1')(h)\n",
    "#h = Conv2D(128,(3,3),activation='relu',padding='same', name='c2_2')(h)\n",
    "#h = MaxPooling2D()(h)\n",
    "#h = Conv2D(256,(3,3),activation='relu',padding='same', name='c3_1')(h)\n",
    "#h = Conv2D(256,(3,3),activation='relu',padding='same', name='c3_2')(h)\n",
    "#h = Conv2D(256,(3,3),activation='relu',padding='same', name='c3_3')(h)\n",
    "#h = MaxPooling2D()(h)\n",
    "#h = Conv2D(512,(3,3),activation='relu',padding='same', name='c4_1')(h)\n",
    "#h = Conv2D(512,(3,3),activation='relu',padding='same', name='c4_2')(h)\n",
    "#h = Conv2D(512,(3,3),activation='relu',padding='same', name='c4_3')(h)\n",
    "#h = MaxPooling2D()(h)\n",
    "#h = Conv2D(512,(3,3),activation='relu',padding='same', name='c5_1')(h)\n",
    "#h = Conv2D(512,(3,3),activation='relu',padding='same', name='c5_2')(h)\n",
    "#h = Conv2D(512,(3,3),activation='relu',padding='same', name='c5_3')(h)\n",
    "#h = MaxPooling2D()(h)\n",
    "#h = Flatten()(h)\n",
    "#h = Dense(4096,activation='relu', name='fc_1')(h)\n",
    "#h = Dense(4096,activation='relu', name='fc_2')(h)\n",
    "#h = Dense(1000,activation='softmax', name='fc_3')(h)\n",
    "\n",
    "h = GlobalAveragePooling2D()(h)\n",
    "h = Dense(1)(h)\n",
    "model = Model(x,h)"
   ]
  },
  {
   "cell_type": "code",
   "execution_count": 8,
   "metadata": {},
   "outputs": [],
   "source": [
    "# layer mapping\n",
    "\n",
    "corr_layers['block1_conv1'] = 'c1_1'\n",
    "corr_layers['block1_conv2'] = 'c1_2'\n",
    "corr_layers['block2_conv1'] = 'c2_1'\n",
    "corr_layers['block2_conv2'] = 'c2_2'\n",
    "corr_layers['block3_conv1'] = 'c3_1'\n",
    "corr_layers['block3_conv2'] = 'c3_2'\n",
    "corr_layers['block3_conv3'] = 'c3_3'\n",
    "corr_layers['block4_conv1'] = 'c4_1'\n",
    "corr_layers['block4_conv2'] = 'c4_2'\n",
    "corr_layers['block4_conv3'] = 'c4_3'\n",
    "corr_layers['block5_conv1'] = 'c5_1'\n",
    "corr_layers['block5_conv2'] = 'c5_2'\n",
    "corr_layers['block5_conv3'] = 'c5_3'"
   ]
  },
  {
   "cell_type": "code",
   "execution_count": 9,
   "metadata": {},
   "outputs": [
    {
     "name": "stdout",
     "output_type": "stream",
     "text": [
      "block1_conv1 -> c1_1\n",
      "block1_conv2 -> c1_2\n"
     ]
    }
   ],
   "source": [
    "for pretrained_layer_name, model_layer_name in corr_layers.items():\n",
    "    for layer in model.layers:\n",
    "        if layer.get_config()['name']==model_layer_name:\n",
    "            print(pretrained_layer_name + ' -> ' + model_layer_name)\n",
    "#            print(list(f[pretrained_layer_name].keys()))\n",
    "            w = f[pretrained_layer_name][pretrained_layer_name+'_W_1:0']\n",
    "            b = f[pretrained_layer_name][pretrained_layer_name+'_b_1:0']\n",
    "            layer.set_weights([w,b])"
   ]
  },
  {
   "cell_type": "code",
   "execution_count": 10,
   "metadata": {},
   "outputs": [
    {
     "name": "stdout",
     "output_type": "stream",
     "text": [
      "_________________________________________________________________\n",
      "Layer (type)                 Output Shape              Param #   \n",
      "=================================================================\n",
      "input_2 (InputLayer)         (None, 224, 224, 3)       0         \n",
      "_________________________________________________________________\n",
      "c1_1 (Conv2D)                (None, 224, 224, 64)      1792      \n",
      "_________________________________________________________________\n",
      "c1_2 (Conv2D)                (None, 224, 224, 64)      36928     \n",
      "_________________________________________________________________\n",
      "global_average_pooling2d_2 ( (None, 64)                0         \n",
      "_________________________________________________________________\n",
      "dense_1 (Dense)              (None, 1)                 65        \n",
      "=================================================================\n",
      "Total params: 38,785\n",
      "Trainable params: 38,785\n",
      "Non-trainable params: 0\n",
      "_________________________________________________________________\n"
     ]
    }
   ],
   "source": [
    "model.summary()"
   ]
  },
  {
   "cell_type": "code",
   "execution_count": null,
   "metadata": {},
   "outputs": [],
   "source": []
  }
 ],
 "metadata": {
  "kernelspec": {
   "display_name": "Python [conda env:dl35]",
   "language": "python",
   "name": "conda-env-dl35-py"
  },
  "language_info": {
   "codemirror_mode": {
    "name": "ipython",
    "version": 3
   },
   "file_extension": ".py",
   "mimetype": "text/x-python",
   "name": "python",
   "nbconvert_exporter": "python",
   "pygments_lexer": "ipython3",
   "version": "3.5.4"
  }
 },
 "nbformat": 4,
 "nbformat_minor": 2
}
