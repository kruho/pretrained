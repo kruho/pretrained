{
 "cells": [
  {
   "cell_type": "code",
   "execution_count": 6,
   "metadata": {},
   "outputs": [
    {
     "name": "stdout",
     "output_type": "stream",
     "text": [
      "_________________________________________________________________\n",
      "Layer (type)                 Output Shape              Param #   \n",
      "=================================================================\n",
      "input_2 (InputLayer)         (None, 224, 224, 3)       0         \n",
      "_________________________________________________________________\n",
      "block1_conv1 (Conv2D)        (None, 224, 224, 64)      1792      \n",
      "_________________________________________________________________\n",
      "block1_conv2 (Conv2D)        (None, 224, 224, 64)      36928     \n",
      "_________________________________________________________________\n",
      "block1_pool (MaxPooling2D)   (None, 112, 112, 64)      0         \n",
      "_________________________________________________________________\n",
      "block2_conv1 (Conv2D)        (None, 112, 112, 128)     73856     \n",
      "_________________________________________________________________\n",
      "block2_conv2 (Conv2D)        (None, 112, 112, 128)     147584    \n",
      "_________________________________________________________________\n",
      "block2_pool (MaxPooling2D)   (None, 56, 56, 128)       0         \n",
      "_________________________________________________________________\n",
      "block3_conv1 (Conv2D)        (None, 56, 56, 256)       295168    \n",
      "_________________________________________________________________\n",
      "block3_conv2 (Conv2D)        (None, 56, 56, 256)       590080    \n",
      "_________________________________________________________________\n",
      "block3_conv3 (Conv2D)        (None, 56, 56, 256)       590080    \n",
      "_________________________________________________________________\n",
      "block3_pool (MaxPooling2D)   (None, 28, 28, 256)       0         \n",
      "_________________________________________________________________\n",
      "block4_conv1 (Conv2D)        (None, 28, 28, 512)       1180160   \n",
      "_________________________________________________________________\n",
      "block4_conv2 (Conv2D)        (None, 28, 28, 512)       2359808   \n",
      "_________________________________________________________________\n",
      "block4_conv3 (Conv2D)        (None, 28, 28, 512)       2359808   \n",
      "_________________________________________________________________\n",
      "block4_pool (MaxPooling2D)   (None, 14, 14, 512)       0         \n",
      "_________________________________________________________________\n",
      "block5_conv1 (Conv2D)        (None, 14, 14, 512)       2359808   \n",
      "_________________________________________________________________\n",
      "block5_conv2 (Conv2D)        (None, 14, 14, 512)       2359808   \n",
      "_________________________________________________________________\n",
      "block5_conv3 (Conv2D)        (None, 14, 14, 512)       2359808   \n",
      "_________________________________________________________________\n",
      "block5_pool (MaxPooling2D)   (None, 7, 7, 512)         0         \n",
      "_________________________________________________________________\n",
      "flatten (Flatten)            (None, 25088)             0         \n",
      "_________________________________________________________________\n",
      "fc1 (Dense)                  (None, 4096)              102764544 \n",
      "_________________________________________________________________\n",
      "fc2 (Dense)                  (None, 4096)              16781312  \n",
      "_________________________________________________________________\n",
      "predictions (Dense)          (None, 1000)              4097000   \n",
      "=================================================================\n",
      "Total params: 138,357,544\n",
      "Trainable params: 138,357,544\n",
      "Non-trainable params: 0\n",
      "_________________________________________________________________\n"
     ]
    }
   ],
   "source": [
    "from keras.applications.vgg16 import VGG16\n",
    "\n",
    "vgg16 = VGG16(include_top=True, weights='imagenet', input_tensor=None, input_shape=None)\n",
    "vgg16.summary()"
   ]
  },
  {
   "cell_type": "code",
   "execution_count": 1,
   "metadata": {},
   "outputs": [
    {
     "data": {
      "text/plain": [
       "['block1_conv1',\n",
       " 'block1_conv2',\n",
       " 'block1_pool',\n",
       " 'block2_conv1',\n",
       " 'block2_conv2',\n",
       " 'block2_pool',\n",
       " 'block3_conv1',\n",
       " 'block3_conv2',\n",
       " 'block3_conv3',\n",
       " 'block3_pool',\n",
       " 'block4_conv1',\n",
       " 'block4_conv2',\n",
       " 'block4_conv3',\n",
       " 'block4_pool',\n",
       " 'block5_conv1',\n",
       " 'block5_conv2',\n",
       " 'block5_conv3',\n",
       " 'block5_pool',\n",
       " 'fc1',\n",
       " 'fc2',\n",
       " 'flatten',\n",
       " 'predictions']"
      ]
     },
     "execution_count": 1,
     "metadata": {},
     "output_type": "execute_result"
    }
   ],
   "source": [
    "import h5py\n",
    "\n",
    "path = '../../.keras/models/vgg16_weights_tf_dim_ordering_tf_kernels.h5'\n",
    "\n",
    "f = h5py.File(path, 'r')\n",
    "layer_names = list(f.keys())\n",
    "layer_names"
   ]
  },
  {
   "cell_type": "code",
   "execution_count": 2,
   "metadata": {},
   "outputs": [
    {
     "name": "stderr",
     "output_type": "stream",
     "text": [
      "Using TensorFlow backend.\n"
     ]
    }
   ],
   "source": [
    "from keras.layers import Input, Conv2D, MaxPooling2D, Flatten, Dense\n",
    "from keras.models import Model\n",
    "\n",
    "x = h = Input((224,224,3))\n",
    "h = Conv2D(64,(3,3),activation='relu',padding='same', name='c1_1')(h)\n",
    "h = Conv2D(64,(3,3),activation='relu',padding='same', name='c1_2')(h)\n",
    "h = MaxPooling2D()(h)\n",
    "h = Conv2D(128,(3,3),activation='relu',padding='same', name='c2_1')(h)\n",
    "h = Conv2D(128,(3,3),activation='relu',padding='same', name='c2_2')(h)\n",
    "h = MaxPooling2D()(h)\n",
    "h = Conv2D(256,(3,3),activation='relu',padding='same', name='c3_1')(h)\n",
    "h = Conv2D(256,(3,3),activation='relu',padding='same', name='c3_2')(h)\n",
    "h = Conv2D(256,(3,3),activation='relu',padding='same', name='c3_3')(h)\n",
    "h = MaxPooling2D()(h)\n",
    "h = Conv2D(512,(3,3),activation='relu',padding='same', name='c4_1')(h)\n",
    "h = Conv2D(512,(3,3),activation='relu',padding='same', name='c4_2')(h)\n",
    "h = Conv2D(512,(3,3),activation='relu',padding='same', name='c4_3')(h)\n",
    "h = MaxPooling2D()(h)\n",
    "h = Conv2D(512,(3,3),activation='relu',padding='same', name='c5_1')(h)\n",
    "h = Conv2D(512,(3,3),activation='relu',padding='same', name='c5_2')(h)\n",
    "h = Conv2D(512,(3,3),activation='relu',padding='same', name='c5_3')(h)\n",
    "h = MaxPooling2D()(h)\n",
    "h = Flatten()(h)\n",
    "h = Dense(4096,activation='relu', name='fc_1')(h)\n",
    "h = Dense(4096,activation='relu', name='fc_2')(h)\n",
    "y = Dense(1000,activation='softmax', name='fc_3')(h)\n",
    "\n",
    "model = Model(x,y)"
   ]
  },
  {
   "cell_type": "code",
   "execution_count": 3,
   "metadata": {},
   "outputs": [
    {
     "data": {
      "text/plain": [
       "['input_1',\n",
       " 'c1_1',\n",
       " 'c1_2',\n",
       " 'max_pooling2d_1',\n",
       " 'c2_1',\n",
       " 'c2_2',\n",
       " 'max_pooling2d_2',\n",
       " 'c3_1',\n",
       " 'c3_2',\n",
       " 'c3_3',\n",
       " 'max_pooling2d_3',\n",
       " 'c4_1',\n",
       " 'c4_2',\n",
       " 'c4_3',\n",
       " 'max_pooling2d_4',\n",
       " 'c5_1',\n",
       " 'c5_2',\n",
       " 'c5_3',\n",
       " 'max_pooling2d_5',\n",
       " 'flatten_1',\n",
       " 'fc_1',\n",
       " 'fc_2',\n",
       " 'fc_3']"
      ]
     },
     "execution_count": 3,
     "metadata": {},
     "output_type": "execute_result"
    }
   ],
   "source": [
    "model_layer_names = []\n",
    "for layer in model.layers:\n",
    "    model_layer_names.append(layer.get_config()['name'])\n",
    "model_layer_names"
   ]
  },
  {
   "cell_type": "code",
   "execution_count": 4,
   "metadata": {},
   "outputs": [],
   "source": [
    "if True:\n",
    "    corr_layers = {\n",
    "        'c1_1':'block1_conv1',\n",
    "        'c1_2':'block1_conv2',\n",
    "        'c2_1':'block2_conv1',\n",
    "        'c2_2':'block2_conv2',\n",
    "        'c3_1':'block3_conv1',\n",
    "        'c3_2':'block3_conv2',\n",
    "        'c3_3':'block3_conv3',\n",
    "        'c4_1':'block4_conv1',\n",
    "        'c4_2':'block4_conv2',\n",
    "        'c4_3':'block4_conv3',\n",
    "        'c5_1':'block5_conv1',\n",
    "        'c5_2':'block5_conv2',\n",
    "        'c5_3':'block5_conv3'\n",
    "    }\n",
    "else:\n",
    "    corr_layers = {\n",
    "        'block1_conv1':'c1_1',\n",
    "        'block1_conv2':'c1_2',\n",
    "        'block2_conv1':'c2_1',\n",
    "        'block2_conv2':'c2_2',\n",
    "        'block3_conv1':'c3_1',\n",
    "        'block3_conv2':'c3_2',\n",
    "        'block3_conv3':'c3_3',\n",
    "        'block4_conv1':'c4_1',\n",
    "        'block4_conv2':'c4_2',\n",
    "        'block4_conv3':'c4_3',\n",
    "        'block5_conv1':'c5_1',\n",
    "        'block5_conv2':'c5_2',\n",
    "        'block5_conv3':'c5_3'\n",
    "    }"
   ]
  },
  {
   "cell_type": "code",
   "execution_count": 7,
   "metadata": {},
   "outputs": [
    {
     "name": "stdout",
     "output_type": "stream",
     "text": [
      "['block3_conv2_W_1:0', 'block3_conv2_b_1:0']\n",
      "['block2_conv1_W_1:0', 'block2_conv1_b_1:0']\n",
      "['block5_conv1_W_1:0', 'block5_conv1_b_1:0']\n",
      "['block2_conv2_W_1:0', 'block2_conv2_b_1:0']\n",
      "['block3_conv3_W_1:0', 'block3_conv3_b_1:0']\n",
      "['block4_conv2_W_1:0', 'block4_conv2_b_1:0']\n",
      "['block4_conv1_W_1:0', 'block4_conv1_b_1:0']\n",
      "['block4_conv3_W_1:0', 'block4_conv3_b_1:0']\n",
      "['block1_conv1_W_1:0', 'block1_conv1_b_1:0']\n",
      "['block5_conv2_W_1:0', 'block5_conv2_b_1:0']\n",
      "['block5_conv3_W_1:0', 'block5_conv3_b_1:0']\n",
      "['block1_conv2_W_1:0', 'block1_conv2_b_1:0']\n",
      "['block3_conv1_W_1:0', 'block3_conv1_b_1:0']\n"
     ]
    }
   ],
   "source": [
    "for model_layer_name in corr_layers:\n",
    "    for layer in model.layers:\n",
    "        if layer.get_config()['name']==model_layer_name:\n",
    "            pretrained_layer_name = corr_layers[model_layer_name]\n",
    "            print(list(f[pretrained_layer_name].keys()))\n",
    "            w = f[pretrained_layer_name][pretrained_layer_name+'_W_1:0']\n",
    "            b = f[pretrained_layer_name][pretrained_layer_name+'_b_1:0']\n",
    "            layer.set_weights([w,b])"
   ]
  },
  {
   "cell_type": "code",
   "execution_count": null,
   "metadata": {},
   "outputs": [],
   "source": []
  }
 ],
 "metadata": {
  "kernelspec": {
   "display_name": "Python [conda env:dl35]",
   "language": "python",
   "name": "conda-env-dl35-py"
  },
  "language_info": {
   "codemirror_mode": {
    "name": "ipython",
    "version": 3
   },
   "file_extension": ".py",
   "mimetype": "text/x-python",
   "name": "python",
   "nbconvert_exporter": "python",
   "pygments_lexer": "ipython3",
   "version": "3.5.4"
  }
 },
 "nbformat": 4,
 "nbformat_minor": 2
}
